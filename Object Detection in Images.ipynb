{
 "cells": [
  {
   "cell_type": "markdown",
   "metadata": {},
   "source": [
    "# Object Detection\n",
    "\n",
    "Object detection in images using a pretrained YoloV3 model and OpenCV.\n",
    "\n",
    "For YoloV3 model: [Darknet YoloV3](https://pjreddie.com/darknet/yolo/)\n",
    "\n",
    "For identifiable object classes: [Coco](https://github.com/pjreddie/darknet/blob/master/data/coco.names)"
   ]
  },
  {
   "cell_type": "markdown",
   "metadata": {},
   "source": [
    "### Import Libraries"
   ]
  },
  {
   "cell_type": "code",
   "execution_count": 1,
   "metadata": {},
   "outputs": [],
   "source": [
    "import cv2\n",
    "import numpy as np\n",
    "import matplotlib.pyplot as plt"
   ]
  },
  {
   "cell_type": "markdown",
   "metadata": {},
   "source": [
    "### Load YoloV3 model and Image"
   ]
  },
  {
   "cell_type": "code",
   "execution_count": 2,
   "metadata": {},
   "outputs": [],
   "source": [
    "def modelLoading():\n",
    "    # reads neural network model\n",
    "    net = cv2.dnn.readNet(\"models\\yolov3.weights\", \"models\\yolov3.cfg\")\n",
    "    \n",
    "    # reads all identifiable objects from coco.names    \n",
    "    with open(\"models\\coco.names\", \"r\") as f:\n",
    "        classes = [line.strip() for line in f.readlines()]\n",
    "\n",
    "    # getting indexes of all output layers\n",
    "    layers_names = net.getLayerNames()\n",
    "    out_layers = [layers_names[i[0]-1] for i in net.getUnconnectedOutLayers()]\n",
    "    \n",
    "    # returns neural network, object classes, output_layers of network\n",
    "    return net, classes, out_layers\n",
    "\n",
    "def imageProccesing(imgPath):\n",
    "    # reads and resizes image using scale factor of 0.7\n",
    "    img = cv2.imread(imgPath)\n",
    "    img = cv2.resize(img, None, fx=0.7, fy=0.7)\n",
    "    height, width, channels = img.shape\n",
    "    \n",
    "    # returns image, height, width, channel(RBG = 3)\n",
    "    return img, height, width, channels"
   ]
  },
  {
   "cell_type": "markdown",
   "metadata": {},
   "source": [
    "### Detect objects"
   ]
  },
  {
   "cell_type": "code",
   "execution_count": 3,
   "metadata": {},
   "outputs": [],
   "source": [
    "def objectDetection(img, net, outputLayers):\n",
    "    # detects potential objects in image\n",
    "    blob = cv2.dnn.blobFromImage(img, scalefactor=0.00392, size=(320, 320), mean=(0, 0, 0), swapRB=True, crop=False)\n",
    "    # input detected potential objects in neural network\n",
    "    net.setInput(blob)\n",
    "    # get output values from network\n",
    "    outputs = net.forward(outputLayers)\n",
    "    # return output ids of objects \n",
    "    return outputs"
   ]
  },
  {
   "cell_type": "markdown",
   "metadata": {},
   "source": [
    "### Bounding box and label objects"
   ]
  },
  {
   "cell_type": "code",
   "execution_count": 4,
   "metadata": {},
   "outputs": [],
   "source": [
    "def boundingBox(img, outputs, height, width, classes):\n",
    "    boxes, confs, class_ids = [], [], []\n",
    "    # colors for boxes in BGR\n",
    "    colors = np.random.uniform(0, 255, size=(len(classes), 3))\n",
    "    \n",
    "    # finding boxes(box dimensions), confidence levels, class_ids(object ids)\n",
    "    for output in outputs:\n",
    "        for detect in output:\n",
    "            scores = detect[5:]\n",
    "            class_id = np.argmax(scores)\n",
    "            conf = scores[class_id]\n",
    "            if conf > 0.3:\n",
    "                cx = int(detect[0] * width)\n",
    "                cy = int(detect[1] * height)\n",
    "                w = int(detect[2] * width)\n",
    "                h = int(detect[3] * height)\n",
    "                x = int(cx - w/2)\n",
    "                y = int(cy - h / 2)\n",
    "                boxes.append([x, y, w, h])\n",
    "                confs.append(float(conf))\n",
    "                class_ids.append(class_id)\n",
    "\n",
    "    # perform non max suppression on boxes and confidence levels\n",
    "    indexes = cv2.dnn.NMSBoxes(boxes, confs, 0.5, 0.4)\n",
    "    \n",
    "    # creating boxes\n",
    "    for i in range(len(boxes)):\n",
    "        if i in indexes:\n",
    "            # finds label for object from classes using id\n",
    "            label = str(classes[class_ids[i]])\n",
    "            # select box color\n",
    "            color = colors[i]\n",
    "            # dimensions of object box\n",
    "            x, y, w, h = boxes[i]\n",
    "            # create box\n",
    "            cv2.rectangle(img, (x,y), (x+w, y+h), color, 2)\n",
    "            # label object box\n",
    "            cv2.putText(img, label, (x, y - 5), cv2.FONT_HERSHEY_PLAIN, 1, color, 1)\n",
    "            \n",
    "    # plt.imshow(img[:,:,::-1])\n",
    "    return img"
   ]
  },
  {
   "cell_type": "markdown",
   "metadata": {},
   "source": [
    "### Combine all functions for detection"
   ]
  },
  {
   "cell_type": "code",
   "execution_count": 5,
   "metadata": {},
   "outputs": [],
   "source": [
    "def image_detection(path):\n",
    "    model, classes, output_layers = modelLoading() # load yolo model\n",
    "    image, height, width, channels = imageProccesing(path) # read and process image\n",
    "    outputs = objectDetection(image, model, output_layers) # detect objects in image\n",
    "    labelled_img = boundingBox(image, outputs, height, width, classes) # create bounding box and label objects\n",
    "    cv2.imshow(\"Objects detected in image\", labelled_img)\n",
    "    cv2.waitKey(0)"
   ]
  },
  {
   "cell_type": "markdown",
   "metadata": {},
   "source": [
    "### Running Code"
   ]
  },
  {
   "cell_type": "code",
   "execution_count": 6,
   "metadata": {},
   "outputs": [],
   "source": [
    "# to run object detection pass the image path to the function\n",
    "image_detection(\"images/work.jpg\")"
   ]
  }
 ],
 "metadata": {
  "kernelspec": {
   "display_name": "Python 3",
   "language": "python",
   "name": "python3"
  },
  "language_info": {
   "codemirror_mode": {
    "name": "ipython",
    "version": 3
   },
   "file_extension": ".py",
   "mimetype": "text/x-python",
   "name": "python",
   "nbconvert_exporter": "python",
   "pygments_lexer": "ipython3",
   "version": "3.8.3"
  }
 },
 "nbformat": 4,
 "nbformat_minor": 4
}
